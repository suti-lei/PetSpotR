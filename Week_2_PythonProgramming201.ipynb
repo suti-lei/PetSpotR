{
  "nbformat": 4,
  "nbformat_minor": 0,
  "metadata": {
    "kernelspec": {
      "display_name": "Python 3",
      "language": "python",
      "name": "python3"
    },
    "language_info": {
      "codemirror_mode": {
        "name": "ipython",
        "version": 3
      },
      "file_extension": ".py",
      "mimetype": "text/x-python",
      "name": "python",
      "nbconvert_exporter": "python",
      "pygments_lexer": "ipython3",
      "version": "3.6.9"
    },
    "colab": {
      "provenance": [],
      "toc_visible": true,
      "include_colab_link": true
    }
  },
  "cells": [
    {
      "cell_type": "markdown",
      "metadata": {
        "id": "view-in-github",
        "colab_type": "text"
      },
      "source": [
        "<a href=\"https://colab.research.google.com/github/suti-lei/PetSpotR/blob/main/Week_2_PythonProgramming201.ipynb\" target=\"_parent\"><img src=\"https://colab.research.google.com/assets/colab-badge.svg\" alt=\"Open In Colab\"/></a>"
      ]
    },
    {
      "cell_type": "markdown",
      "metadata": {
        "id": "BJLe9DwKSGjo"
      },
      "source": [
        "# Python Programming 201"
      ]
    },
    {
      "cell_type": "markdown",
      "source": [
        "For Checking hotkey, please press Ctrl-M, then press H."
      ],
      "metadata": {
        "id": "E_ows4a4GZNn"
      }
    },
    {
      "cell_type": "markdown",
      "metadata": {
        "id": "mE-8z3nHSGkL"
      },
      "source": [
        "# Functions, Exception Handling\n",
        "Functions"
      ]
    },
    {
      "cell_type": "code",
      "metadata": {
        "id": "sZxQlE6gSGkh",
        "colab": {
          "base_uri": "https://localhost:8080/"
        },
        "outputId": "a5be78fd-1ff9-44a7-dcc3-2e5693927781"
      },
      "source": [
        "def your_bill(sandwich, lemon_tea):\n",
        "    print('Hello Welcome to mini coffee con')\n",
        "    print(f'you have ordered {sandwich} sandwiches, and {lemon_tea} cup of lemon tea')\n",
        "    return 15.0 * sandwich + 10.0 * lemon_tea\n",
        "\n",
        "your_bill(1, 2)"
      ],
      "execution_count": null,
      "outputs": [
        {
          "output_type": "stream",
          "name": "stdout",
          "text": [
            "Hello Welcome to mini coffee con\n",
            "you have ordered 1 sandwiches, and 2 cup of lemon tea\n"
          ]
        },
        {
          "output_type": "execute_result",
          "data": {
            "text/plain": [
              "35.0"
            ]
          },
          "metadata": {},
          "execution_count": 1
        }
      ]
    },
    {
      "cell_type": "code",
      "metadata": {
        "id": "oUZQDMHnVhCu",
        "colab": {
          "base_uri": "https://localhost:8080/"
        },
        "outputId": "d9a8227c-f979-4328-8644-259a27da35f9"
      },
      "source": [
        "# parameters with default values\n",
        "def your_bill(sandwich, lemon_tea, cold_ot=False):\n",
        "    print('Hello Welcome to mini coffee con')\n",
        "    print(f'you have ordered {sandwich} sandwiches, and {lemon_tea} cup of lemon tea')\n",
        "    if not cold_ot: # hot lemon tea\n",
        "        return 15.0 * sandwich + 10.0 * lemon_tea\n",
        "    else:\n",
        "        return 15.0 * sandwich + 12.0 * lemon_tea\n",
        "print(your_bill(1, 2))\n",
        "print(your_bill(1, 2, True))"
      ],
      "execution_count": null,
      "outputs": [
        {
          "output_type": "stream",
          "name": "stdout",
          "text": [
            "Hello Welcome to mini coffee con\n",
            "you have ordered 1 sandwiches, and 2 cup of lemon tea\n",
            "35.0\n",
            "Hello Welcome to mini coffee con\n",
            "you have ordered 1 sandwiches, and 2 cup of lemon tea\n",
            "39.0\n"
          ]
        }
      ]
    },
    {
      "cell_type": "code",
      "metadata": {
        "id": "TefmU167Vqk-"
      },
      "source": [
        "# You can skip earlier parameter and set the later\n",
        "def your_bill(sandwich, lemon_tea, cold_ot=False, show_details=False):\n",
        "    if show_details:\n",
        "        print('Hello Welcome to mini coffee con')\n",
        "        print(f'you have ordered {sandwich} sandwiches, and {lemon_tea} cup of {\"cold\" if cold_ot else \"hot\"} lemon tea')\n",
        "    if not cold_ot: # hot lemon tea\n",
        "        return 15.0 * sandwich + 10.0 * lemon_tea\n",
        "    else:\n",
        "        return 15.0 * sandwich + 12.0 * lemon_tea\n",
        "# print(your_bill(1, 2, show_details=True))"
      ],
      "execution_count": null,
      "outputs": []
    },
    {
      "cell_type": "code",
      "source": [
        "print(your_bill(1, 2, show_details=True))"
      ],
      "metadata": {
        "colab": {
          "base_uri": "https://localhost:8080/"
        },
        "id": "fsgbmGFfWA-B",
        "outputId": "7256f62c-b68c-4b5e-82ac-8fc990837015"
      },
      "execution_count": null,
      "outputs": [
        {
          "output_type": "stream",
          "name": "stdout",
          "text": [
            "Hello Welcome to mini coffee con\n",
            "you have ordered 1 sandwiches, and 2 cup of hot lemon tea\n",
            "35.0\n"
          ]
        }
      ]
    },
    {
      "cell_type": "markdown",
      "metadata": {
        "id": "uaAd68MpSGkq"
      },
      "source": [
        "try / except"
      ]
    },
    {
      "cell_type": "code",
      "metadata": {
        "id": "Y0icSpUXWRji",
        "colab": {
          "base_uri": "https://localhost:8080/",
          "height": 235
        },
        "outputId": "cc2e54e9-dda0-4263-94d7-bf53f0d23f7d"
      },
      "source": [
        "sandwich = 'Three'\n",
        "print(f'you have ordered {sandwich} sandwiches')\n",
        "bill = 15.0 * sandwich\n",
        "print(f'Your bill is ${bill}')"
      ],
      "execution_count": null,
      "outputs": [
        {
          "output_type": "stream",
          "name": "stdout",
          "text": [
            "you have ordered Three sandwiches\n"
          ]
        },
        {
          "output_type": "error",
          "ename": "TypeError",
          "evalue": "ignored",
          "traceback": [
            "\u001b[0;31m---------------------------------------------------------------------------\u001b[0m",
            "\u001b[0;31mTypeError\u001b[0m                                 Traceback (most recent call last)",
            "\u001b[0;32m<ipython-input-8-3493bc3f12ce>\u001b[0m in \u001b[0;36m<module>\u001b[0;34m\u001b[0m\n\u001b[1;32m      1\u001b[0m \u001b[0msandwich\u001b[0m \u001b[0;34m=\u001b[0m \u001b[0;34m'Three'\u001b[0m\u001b[0;34m\u001b[0m\u001b[0;34m\u001b[0m\u001b[0m\n\u001b[1;32m      2\u001b[0m \u001b[0mprint\u001b[0m\u001b[0;34m(\u001b[0m\u001b[0;34mf'you have ordered {sandwich} sandwiches'\u001b[0m\u001b[0;34m)\u001b[0m\u001b[0;34m\u001b[0m\u001b[0;34m\u001b[0m\u001b[0m\n\u001b[0;32m----> 3\u001b[0;31m \u001b[0mbill\u001b[0m \u001b[0;34m=\u001b[0m \u001b[0;36m15.0\u001b[0m \u001b[0;34m*\u001b[0m \u001b[0msandwich\u001b[0m\u001b[0;34m\u001b[0m\u001b[0;34m\u001b[0m\u001b[0m\n\u001b[0m\u001b[1;32m      4\u001b[0m \u001b[0mprint\u001b[0m\u001b[0;34m(\u001b[0m\u001b[0;34mf'Your bill is ${bill}'\u001b[0m\u001b[0;34m)\u001b[0m\u001b[0;34m\u001b[0m\u001b[0;34m\u001b[0m\u001b[0m\n",
            "\u001b[0;31mTypeError\u001b[0m: can't multiply sequence by non-int of type 'float'"
          ]
        }
      ]
    },
    {
      "cell_type": "code",
      "metadata": {
        "id": "7146s75xSGkr",
        "colab": {
          "base_uri": "https://localhost:8080/"
        },
        "outputId": "023f7efe-ec3d-4e48-f1d9-9eec4b0098fd"
      },
      "source": [
        "sandwich = 'Three'\n",
        "try:\n",
        "    print(f'you have ordered {sandwich} sandwiches')\n",
        "    bill = 15.0 * sandwich\n",
        "except:\n",
        "    print('ERROR !')\n",
        "    bill = -1.0\n",
        "\n",
        "print(f'Your bill is ${bill}')"
      ],
      "execution_count": null,
      "outputs": [
        {
          "output_type": "stream",
          "name": "stdout",
          "text": [
            "you have ordered Three sandwiches\n",
            "ERROR !\n",
            "Your bill is $-1.0\n"
          ]
        }
      ]
    },
    {
      "cell_type": "code",
      "metadata": {
        "id": "2N8P7-_gV3VR",
        "colab": {
          "base_uri": "https://localhost:8080/"
        },
        "outputId": "8176b929-dfae-4d5f-e7fb-845fdc4a1578"
      },
      "source": [
        "# again, with outputting the error\n",
        "sandwich = 'Three'\n",
        "try:\n",
        "    print(f'you have ordered {sandwich} sandwiches')\n",
        "    bill = 15.0 * sandwich\n",
        "except Exception as e:\n",
        "    print(f'Error: {str(e)}')\n",
        "    bill = -1\n",
        "\n",
        "print(f'Your bill is ${bill}')"
      ],
      "execution_count": null,
      "outputs": [
        {
          "output_type": "stream",
          "name": "stdout",
          "text": [
            "you have ordered Three sandwiches\n",
            "Error: can't multiply sequence by non-int of type 'float'\n",
            "Your bill is $-1\n"
          ]
        }
      ]
    },
    {
      "cell_type": "markdown",
      "metadata": {
        "id": "-AJhpwiVWv0N"
      },
      "source": [
        "# Packages\n",
        "\n",
        "Welcome to refer here - in [Python Documentation](https://docs.python.org/3/tutorial/stdlib.html)"
      ]
    },
    {
      "cell_type": "code",
      "metadata": {
        "id": "g-GKncoQWyss"
      },
      "source": [
        "import os\n",
        "import sys\n",
        "import math"
      ],
      "execution_count": null,
      "outputs": []
    },
    {
      "cell_type": "code",
      "source": [
        "print(os.getcwd())\n",
        "print(os.listdir())"
      ],
      "metadata": {
        "id": "5SR4fHFtu9le",
        "colab": {
          "base_uri": "https://localhost:8080/"
        },
        "outputId": "e89699b6-4b9c-4e5b-b3bd-75d2b40b602f"
      },
      "execution_count": null,
      "outputs": [
        {
          "output_type": "stream",
          "name": "stdout",
          "text": [
            "/content\n",
            "['.config', 'sample_data']\n"
          ]
        }
      ]
    },
    {
      "cell_type": "markdown",
      "metadata": {
        "id": "6SSTev4tSGlR"
      },
      "source": [
        "# Strings"
      ]
    },
    {
      "cell_type": "code",
      "metadata": {
        "id": "GwfHEGOzSGlS",
        "colab": {
          "base_uri": "https://localhost:8080/"
        },
        "outputId": "bb94ff6f-d0d8-46a4-b744-6db6789af7dd"
      },
      "source": [
        "# Get the letter from a string\n",
        "fruit = 'banana'\n",
        "letter = fruit[1]\n",
        "print(letter)"
      ],
      "execution_count": null,
      "outputs": [
        {
          "output_type": "stream",
          "name": "stdout",
          "text": [
            "a\n"
          ]
        }
      ]
    },
    {
      "cell_type": "code",
      "metadata": {
        "id": "mcFwKRGiXMyM",
        "colab": {
          "base_uri": "https://localhost:8080/"
        },
        "outputId": "15f20162-92a2-474d-d2b3-ffb656f1a9c7"
      },
      "source": [
        "# Can use variables to tune your position\n",
        "x = 3\n",
        "w = fruit[x - 1]\n",
        "print(w)"
      ],
      "execution_count": null,
      "outputs": [
        {
          "output_type": "stream",
          "name": "stdout",
          "text": [
            "n\n"
          ]
        }
      ]
    },
    {
      "cell_type": "code",
      "metadata": {
        "id": "X7FhDACWXOp0",
        "colab": {
          "base_uri": "https://localhost:8080/",
          "height": 183
        },
        "outputId": "cf515a25-5e84-437f-ee5e-a9e86d8f4524"
      },
      "source": [
        "# Error if out of range\n",
        "print(fruit[10])"
      ],
      "execution_count": null,
      "outputs": [
        {
          "output_type": "error",
          "ename": "IndexError",
          "evalue": "ignored",
          "traceback": [
            "\u001b[0;31m---------------------------------------------------------------------------\u001b[0m",
            "\u001b[0;31mIndexError\u001b[0m                                Traceback (most recent call last)",
            "\u001b[0;32m<ipython-input-18-1a2728fb40fa>\u001b[0m in \u001b[0;36m<module>\u001b[0;34m\u001b[0m\n\u001b[1;32m      1\u001b[0m \u001b[0;31m# Error if out of range\u001b[0m\u001b[0;34m\u001b[0m\u001b[0;34m\u001b[0m\u001b[0;34m\u001b[0m\u001b[0m\n\u001b[0;32m----> 2\u001b[0;31m \u001b[0mprint\u001b[0m\u001b[0;34m(\u001b[0m\u001b[0mfruit\u001b[0m\u001b[0;34m[\u001b[0m\u001b[0;36m10\u001b[0m\u001b[0;34m]\u001b[0m\u001b[0;34m)\u001b[0m\u001b[0;34m\u001b[0m\u001b[0;34m\u001b[0m\u001b[0m\n\u001b[0m",
            "\u001b[0;31mIndexError\u001b[0m: string index out of range"
          ]
        }
      ]
    },
    {
      "cell_type": "code",
      "metadata": {
        "id": "U1Rf2_zoXhtq",
        "colab": {
          "base_uri": "https://localhost:8080/"
        },
        "outputId": "7cc36cf9-f933-4118-d54b-90d864916153"
      },
      "source": [
        "# length of the string\n",
        "print(len(fruit))"
      ],
      "execution_count": null,
      "outputs": [
        {
          "output_type": "stream",
          "name": "stdout",
          "text": [
            "6\n"
          ]
        }
      ]
    },
    {
      "cell_type": "code",
      "metadata": {
        "id": "5_1J2AllXjqq",
        "colab": {
          "base_uri": "https://localhost:8080/"
        },
        "outputId": "93bdae43-1eed-4bfe-bd8c-0ee9b8f24f07"
      },
      "source": [
        "# for loop for each character\n",
        "for letter in fruit:\n",
        "    print(letter)"
      ],
      "execution_count": null,
      "outputs": [
        {
          "output_type": "stream",
          "name": "stdout",
          "text": [
            "b\n",
            "a\n",
            "n\n",
            "a\n",
            "n\n",
            "a\n"
          ]
        }
      ]
    },
    {
      "cell_type": "markdown",
      "metadata": {
        "id": "kRGUZuaaSGlc"
      },
      "source": [
        "Slicing"
      ]
    },
    {
      "cell_type": "code",
      "metadata": {
        "id": "qubJ3Fp_SGld",
        "colab": {
          "base_uri": "https://localhost:8080/"
        },
        "outputId": "72852e45-83a1-4823-808a-e01eadf7ec6b"
      },
      "source": [
        "s = 'Writing Python'\n",
        "print(s[0:4]) # Writ\n",
        "print(s[6:7]) # g\n",
        "print(s[6:20]) # g_Python\n",
        "print(s[:2]) # Wr\n",
        "print(s[8:]) # Python\n",
        "print(s[:]) # Writing_Python"
      ],
      "execution_count": null,
      "outputs": [
        {
          "output_type": "stream",
          "name": "stdout",
          "text": [
            "Writ\n",
            "g\n",
            "g Python\n",
            "Wr\n",
            "Python\n",
            "Writing Python\n"
          ]
        }
      ]
    },
    {
      "cell_type": "markdown",
      "metadata": {
        "id": "nay0EpKvSGlj"
      },
      "source": [
        "Concatenation"
      ]
    },
    {
      "cell_type": "code",
      "metadata": {
        "id": "UM29zcDESGlk",
        "colab": {
          "base_uri": "https://localhost:8080/"
        },
        "outputId": "956b3ec0-fa58-4eae-b982-751ec860aeb0"
      },
      "source": [
        "str1 = 'Hello'\n",
        "str2 = str1 + 'There'\n",
        "print(str2)\n",
        "str2_1 = str1 + ' ' + 'There'\n",
        "print(str2_1)"
      ],
      "execution_count": null,
      "outputs": [
        {
          "output_type": "stream",
          "name": "stdout",
          "text": [
            "HelloThere\n",
            "Hello There\n"
          ]
        }
      ]
    },
    {
      "cell_type": "markdown",
      "metadata": {
        "id": "XgO5U-_2SGlv"
      },
      "source": [
        "Logical Operation"
      ]
    },
    {
      "cell_type": "code",
      "metadata": {
        "id": "BEaMS7aTSGlw",
        "colab": {
          "base_uri": "https://localhost:8080/"
        },
        "outputId": "103d5527-57ef-4664-a461-faf5e970be60"
      },
      "source": [
        "# \"in\" operator usage\n",
        "fruit = 'banana'\n",
        "print('n' in fruit)\n",
        "print('m' in fruit)\n",
        "print('nan' in fruit)\n",
        "if 'a' in fruit:\tprint('Found it!')"
      ],
      "execution_count": null,
      "outputs": [
        {
          "output_type": "stream",
          "name": "stdout",
          "text": [
            "True\n",
            "False\n",
            "True\n",
            "Found it!\n"
          ]
        }
      ]
    },
    {
      "cell_type": "code",
      "metadata": {
        "id": "WGisrIEDY_I5",
        "colab": {
          "base_uri": "https://localhost:8080/"
        },
        "outputId": "bd8a6013-c682-4de7-b80e-eca254c18cab"
      },
      "source": [
        "# String comparison\n",
        "word = 'apple'\n",
        "if word < 'banana':\n",
        "    print('Your word, ' + word + ', comes before banana.')\n",
        "elif word > 'banana':\n",
        "    print('Your word, ' + word + ', comes after banana.')\n",
        "else:\n",
        "    print('All right, bananas.')"
      ],
      "execution_count": null,
      "outputs": [
        {
          "output_type": "stream",
          "name": "stdout",
          "text": [
            "Your word, apple, comes before banana.\n"
          ]
        }
      ]
    },
    {
      "cell_type": "markdown",
      "metadata": {
        "id": "NyKmsfxvSGl3"
      },
      "source": [
        "Strings methods"
      ]
    },
    {
      "cell_type": "code",
      "metadata": {
        "id": "sJOpE-hDSGl5",
        "colab": {
          "base_uri": "https://localhost:8080/"
        },
        "outputId": "5af793ca-2e47-48e7-8775-7b1b437b7b3d"
      },
      "source": [
        "# find a substring\n",
        "fruit = 'Strawberry'\n",
        "print(fruit.find('raw'))\n",
        "print(fruit.find('z')) # if you cannot find"
      ],
      "execution_count": null,
      "outputs": [
        {
          "output_type": "stream",
          "name": "stdout",
          "text": [
            "2\n",
            "-1\n"
          ]
        }
      ]
    },
    {
      "cell_type": "code",
      "metadata": {
        "id": "RHdMtCiwZbMa",
        "colab": {
          "base_uri": "https://localhost:8080/"
        },
        "outputId": "9eb14f72-746b-432e-a5ec-191e6746392a"
      },
      "source": [
        "# Case conversion\n",
        "print(fruit.upper())\n",
        "print(fruit.lower())\n",
        "# Replace string\n",
        "print(fruit.replace('Straw','Blue'))\n",
        "# check the starting char\n",
        "print(fruit.startswith('Straw'), fruit.startswith('S'))\n",
        "print(fruit.endswith('berry'), fruit.endswith('y'))"
      ],
      "execution_count": null,
      "outputs": [
        {
          "output_type": "stream",
          "name": "stdout",
          "text": [
            "STRAWBERRY\n",
            "strawberry\n",
            "Blueberry\n",
            "True True\n",
            "True True\n"
          ]
        }
      ]
    },
    {
      "cell_type": "code",
      "metadata": {
        "id": "KZQQxkBHZxU4"
      },
      "source": [
        "# Trimming spaces\n",
        "fruit_fat = '   Strawberry Blueberry  '\n",
        "print(fruit_fat.lstrip(), '|', fruit_fat.rstrip(), '|', fruit_fat.strip())"
      ],
      "execution_count": null,
      "outputs": []
    },
    {
      "cell_type": "markdown",
      "source": [
        "Unicode"
      ],
      "metadata": {
        "id": "CsWob3WdUw1X"
      }
    },
    {
      "cell_type": "code",
      "source": [
        "print('草莓'.encode(\"unicode_escape\"))\n",
        "print('\\u8349\\u8393')"
      ],
      "metadata": {
        "id": "SkOs5k3a1sqm",
        "colab": {
          "base_uri": "https://localhost:8080/"
        },
        "outputId": "e4539235-a4f4-4087-a2d4-c1ae48a70a7f"
      },
      "execution_count": null,
      "outputs": [
        {
          "output_type": "stream",
          "name": "stdout",
          "text": [
            "b'\\\\u8349\\\\u8393'\n",
            "草莓\n"
          ]
        }
      ]
    },
    {
      "cell_type": "markdown",
      "source": [
        "Escape Characters"
      ],
      "metadata": {
        "id": "T-yIW9BuVKNG"
      }
    },
    {
      "cell_type": "code",
      "source": [
        "print('Hello\\nWorld')"
      ],
      "metadata": {
        "id": "YmGf5Oz039w3",
        "colab": {
          "base_uri": "https://localhost:8080/"
        },
        "outputId": "10ba65ec-ba34-432d-b89d-6819afd5817e"
      },
      "execution_count": null,
      "outputs": [
        {
          "output_type": "stream",
          "name": "stdout",
          "text": [
            "Hello\n",
            "World\n"
          ]
        }
      ]
    },
    {
      "cell_type": "markdown",
      "metadata": {
        "id": "cBxAYZKsSGmG"
      },
      "source": [
        "# Datetime"
      ]
    },
    {
      "cell_type": "code",
      "source": [
        "from datetime import datetime as dt\n",
        "import time"
      ],
      "metadata": {
        "id": "Z_hPvZ8qt0P-"
      },
      "execution_count": null,
      "outputs": []
    },
    {
      "cell_type": "code",
      "metadata": {
        "id": "nTVR_KUOaGq5",
        "colab": {
          "base_uri": "https://localhost:8080/"
        },
        "outputId": "b44ff135-ecc6-4c6b-effd-f5fd2aaee109"
      },
      "source": [
        "import datetime as dt\n",
        "\n",
        "# datetime now\n",
        "dtnow = dt.datetime.now()\n",
        "print(dt.datetime.now())\n",
        "print(type(dtnow))\n",
        "print(dtnow.year, dtnow.month, dtnow.day, dtnow.hour, dtnow.minute, dtnow.second)"
      ],
      "execution_count": null,
      "outputs": [
        {
          "output_type": "stream",
          "name": "stdout",
          "text": [
            "2022-09-17 08:51:14.177151\n",
            "<class 'datetime.datetime'>\n",
            "2022 9 17 8 51 14\n"
          ]
        }
      ]
    },
    {
      "cell_type": "code",
      "metadata": {
        "id": "TjCRDdNgaMU5",
        "colab": {
          "base_uri": "https://localhost:8080/"
        },
        "outputId": "7de9ae4b-8fac-4c5c-d953-336da070069b"
      },
      "source": [
        "# date now\n",
        "today = dt.date.today()\n",
        "print(type(today))\n",
        "print(today)"
      ],
      "execution_count": null,
      "outputs": [
        {
          "output_type": "stream",
          "name": "stdout",
          "text": [
            "<class 'datetime.date'>\n",
            "2022-09-17\n"
          ]
        }
      ]
    },
    {
      "cell_type": "code",
      "metadata": {
        "id": "0wewK3FGaYC4",
        "colab": {
          "base_uri": "https://localhost:8080/"
        },
        "outputId": "b8cc0a39-b87f-4d74-acc6-770e27b497b7"
      },
      "source": [
        "# datetime arithmetic, use timedelta object\n",
        "delta = dt.timedelta(days = 100)\n",
        "print(delta)\n",
        "print(today - delta)\n",
        "print(today > today - delta)"
      ],
      "execution_count": null,
      "outputs": [
        {
          "output_type": "stream",
          "name": "stdout",
          "text": [
            "100 days, 0:00:00\n",
            "2022-06-09\n",
            "True\n"
          ]
        }
      ]
    },
    {
      "cell_type": "code",
      "metadata": {
        "id": "TmETfs6Zagco",
        "colab": {
          "base_uri": "https://localhost:8080/",
          "height": 183
        },
        "outputId": "55ebf71a-d2f4-48f4-b245-bf3bf9964d05"
      },
      "source": [
        "# This is error\n",
        "today - 100"
      ],
      "execution_count": null,
      "outputs": [
        {
          "output_type": "error",
          "ename": "TypeError",
          "evalue": "ignored",
          "traceback": [
            "\u001b[0;31m---------------------------------------------------------------------------\u001b[0m",
            "\u001b[0;31mTypeError\u001b[0m                                 Traceback (most recent call last)",
            "\u001b[0;32m<ipython-input-32-6ce90f922a9a>\u001b[0m in \u001b[0;36m<module>\u001b[0;34m\u001b[0m\n\u001b[1;32m      1\u001b[0m \u001b[0;31m# This is error\u001b[0m\u001b[0;34m\u001b[0m\u001b[0;34m\u001b[0m\u001b[0;34m\u001b[0m\u001b[0m\n\u001b[0;32m----> 2\u001b[0;31m \u001b[0mtoday\u001b[0m \u001b[0;34m-\u001b[0m \u001b[0;36m100\u001b[0m\u001b[0;34m\u001b[0m\u001b[0;34m\u001b[0m\u001b[0m\n\u001b[0m",
            "\u001b[0;31mTypeError\u001b[0m: unsupported operand type(s) for -: 'datetime.date' and 'int'"
          ]
        }
      ]
    },
    {
      "cell_type": "code",
      "metadata": {
        "id": "mxxRczQYSGmJ",
        "colab": {
          "base_uri": "https://localhost:8080/"
        },
        "outputId": "53a89249-d878-48a8-ee84-6cb2431ee035"
      },
      "source": [
        "# String to datetime\n",
        "date0 = dt.datetime.strptime('2019-01-02 03:04:05', '%Y-%m-%d %H:%M:%S')\n",
        "print(dt.datetime.strftime(dtnow, '%H:%M:%S %Y%m%d'))"
      ],
      "execution_count": null,
      "outputs": [
        {
          "output_type": "stream",
          "name": "stdout",
          "text": [
            "08:51:14 20220917\n"
          ]
        }
      ]
    },
    {
      "cell_type": "code",
      "metadata": {
        "id": "8cAafy6_SGmT",
        "colab": {
          "base_uri": "https://localhost:8080/"
        },
        "outputId": "3312a7ce-bc0f-4d67-f781-5f42cda29496"
      },
      "source": [
        "import time\n",
        "# time package is for timer use\n",
        "\n",
        "# UNIX time\n",
        "print(time.time())\n",
        "print(time.gmtime(0))\n",
        "\n",
        "starttime = time.time()\n",
        "time.sleep(10)\n",
        "endtime = time.time()\n",
        "print(endtime-starttime, 'sec past.')"
      ],
      "execution_count": null,
      "outputs": [
        {
          "output_type": "stream",
          "name": "stdout",
          "text": [
            "1663405055.67819\n",
            "time.struct_time(tm_year=1970, tm_mon=1, tm_mday=1, tm_hour=0, tm_min=0, tm_sec=0, tm_wday=3, tm_yday=1, tm_isdst=0)\n",
            "10.010387659072876 sec past.\n"
          ]
        }
      ]
    },
    {
      "cell_type": "markdown",
      "metadata": {
        "id": "-pEwJQIueab-"
      },
      "source": [
        "# Connecting to Google Drive\n",
        "You can press the folder icon => google drive icon"
      ]
    },
    {
      "cell_type": "code",
      "metadata": {
        "id": "tAVcC-fPeEtT",
        "colab": {
          "base_uri": "https://localhost:8080/"
        },
        "outputId": "c81528f4-4f2d-491a-e8d1-0d8d344786ab"
      },
      "source": [
        "from google.colab import drive\n",
        "drive.mount('/content/drive')"
      ],
      "execution_count": null,
      "outputs": [
        {
          "output_type": "stream",
          "name": "stdout",
          "text": [
            "Mounted at /content/drive\n"
          ]
        }
      ]
    },
    {
      "cell_type": "code",
      "metadata": {
        "id": "xssPaGzve1W9"
      },
      "source": [
        "import os\n",
        "\n",
        "# Your original folder\n",
        "gdrive_folder = 'CUHK_STAT5106_2022/Week 2 - 17 Sept'\n",
        "os.chdir(f'/content/drive/My Drive/{gdrive_folder}')"
      ],
      "execution_count": null,
      "outputs": []
    },
    {
      "cell_type": "code",
      "metadata": {
        "id": "71n3DWpfc1vX",
        "colab": {
          "base_uri": "https://localhost:8080/",
          "height": 35
        },
        "outputId": "096a1f3f-76d7-4dd2-b1a6-bab23feaf002"
      },
      "source": [
        "os.getcwd()"
      ],
      "execution_count": null,
      "outputs": [
        {
          "output_type": "execute_result",
          "data": {
            "text/plain": [
              "'/content/drive/MyDrive/CUHK_STAT5106_2022/Week 2 - 17 Sept'"
            ],
            "application/vnd.google.colaboratory.intrinsic+json": {
              "type": "string"
            }
          },
          "metadata": {},
          "execution_count": 38
        }
      ]
    },
    {
      "cell_type": "code",
      "metadata": {
        "id": "nJ_tpfeWe6Q2",
        "colab": {
          "base_uri": "https://localhost:8080/"
        },
        "outputId": "38690eba-665e-46c7-c4f8-c0ccff2686f3"
      },
      "source": [
        "os.listdir()"
      ],
      "execution_count": null,
      "outputs": [
        {
          "output_type": "execute_result",
          "data": {
            "text/plain": [
              "['Week_2_PythonProgramming201.ipynb',\n",
              " 'Week 2.gslides',\n",
              " 'Week_2_PythonProgramming201_Output.ipynb']"
            ]
          },
          "metadata": {},
          "execution_count": 39
        }
      ]
    },
    {
      "cell_type": "markdown",
      "metadata": {
        "id": "TG4yz3ArftuO"
      },
      "source": [
        "# Running Python Programs files .py\n",
        "Reference: https://www.hackerrank.com/challenges/staircase/problem\n",
        "\n",
        "\n",
        "Copy the following into your new file called staircase.py\n",
        "```\n",
        "num_stairs = 10\n",
        "\n",
        "for stairs in range(1, num_stairs + 1):\n",
        "    print(' ' * (num_stairs - stairs) + '#' * stairs)\n",
        "```\n",
        "\n"
      ]
    },
    {
      "cell_type": "code",
      "metadata": {
        "id": "-7KEijGvf2QU",
        "colab": {
          "base_uri": "https://localhost:8080/"
        },
        "outputId": "6105e5e5-8017-445a-93b5-89a3eac6371c"
      },
      "source": [
        "# run the following\n",
        "!python staircase.py"
      ],
      "execution_count": null,
      "outputs": [
        {
          "output_type": "stream",
          "name": "stdout",
          "text": [
            "                   #\n",
            "                  ##\n",
            "                 ###\n",
            "                ####\n",
            "               #####\n",
            "              ######\n",
            "             #######\n",
            "            ########\n",
            "           #########\n",
            "          ##########\n",
            "         ###########\n",
            "        ############\n",
            "       #############\n",
            "      ##############\n",
            "     ###############\n",
            "    ################\n",
            "   #################\n",
            "  ##################\n",
            " ###################\n",
            "####################\n"
          ]
        }
      ]
    },
    {
      "cell_type": "code",
      "metadata": {
        "id": "h2t9DFIog-F1",
        "colab": {
          "base_uri": "https://localhost:8080/"
        },
        "outputId": "83d4144f-e5c2-4495-c525-86fce084d614"
      },
      "source": [
        "import staircase"
      ],
      "execution_count": null,
      "outputs": [
        {
          "output_type": "stream",
          "name": "stdout",
          "text": [
            "                   #\n",
            "                  ##\n",
            "                 ###\n",
            "                ####\n",
            "               #####\n",
            "              ######\n",
            "             #######\n",
            "            ########\n",
            "           #########\n",
            "          ##########\n",
            "         ###########\n",
            "        ############\n",
            "       #############\n",
            "      ##############\n",
            "     ###############\n",
            "    ################\n",
            "   #################\n",
            "  ##################\n",
            " ###################\n",
            "####################\n"
          ]
        }
      ]
    },
    {
      "cell_type": "code",
      "source": [
        "def check_tri_num(N):\n",
        "  tri_num = [0,1,1,2,...]\n",
        "  ...\n",
        "  return is_tri_num\n",
        "\n",
        "check_tri_num(1000) # <= False\n",
        "check_tri_num(66012) # <= True"
      ],
      "metadata": {
        "colab": {
          "base_uri": "https://localhost:8080/",
          "height": 35
        },
        "id": "NFjhc8wRwscv",
        "outputId": "8cf8deef-50fc-4765-b05b-e9d3341fc4cf"
      },
      "execution_count": null,
      "outputs": [
        {
          "output_type": "execute_result",
          "data": {
            "text/plain": [
              "'baana'"
            ],
            "application/vnd.google.colaboratory.intrinsic+json": {
              "type": "string"
            }
          },
          "metadata": {},
          "execution_count": 45
        }
      ]
    }
  ]
}